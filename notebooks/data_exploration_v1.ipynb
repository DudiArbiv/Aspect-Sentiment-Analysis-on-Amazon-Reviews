{
 "cells": [
  {
   "cell_type": "code",
   "execution_count": 3,
   "metadata": {},
   "outputs": [],
   "source": [
    "import os\n",
    "import sys\n",
    "import numpy as np \n",
    "import pandas as pd"
   ]
  },
  {
   "cell_type": "code",
   "execution_count": 4,
   "metadata": {
    "scrolled": true
   },
   "outputs": [
    {
     "name": "stderr",
     "output_type": "stream",
     "text": [
      "b'Skipping line 9076: expected 15 fields, saw 22\\nSkipping line 19256: expected 15 fields, saw 22\\nSkipping line 24313: expected 15 fields, saw 22\\nSkipping line 47211: expected 15 fields, saw 22\\nSkipping line 54295: expected 15 fields, saw 22\\nSkipping line 56641: expected 15 fields, saw 22\\nSkipping line 63067: expected 15 fields, saw 22\\n'\n"
     ]
    }
   ],
   "source": [
    "# importing data\n",
    "BASE_PATH = os.path.abspath(os.path.join('..')) # base path of project\n",
    "\n",
    "file_path = BASE_PATH + '/data/raw/amazon_reviews_us_Electronics_v1_00.tsv'\n",
    "\n",
    "raw_data = pd.read_table(file_path,error_bad_lines=False, nrows=90000)\n",
    "\n",
    "#There are some bad rows, where pandas saw 22 columns instead of 15. Might be because of tabs in review content! \n",
    "#TODO - Can we do something so we dont have to drop them??"
   ]
  },
  {
   "cell_type": "code",
   "execution_count": 4,
   "metadata": {
    "scrolled": true
   },
   "outputs": [
    {
     "data": {
      "text/plain": [
       "marketplace          object\n",
       "customer_id           int64\n",
       "review_id            object\n",
       "product_id           object\n",
       "product_parent        int64\n",
       "product_title        object\n",
       "product_category     object\n",
       "star_rating           int64\n",
       "helpful_votes         int64\n",
       "total_votes           int64\n",
       "vine                 object\n",
       "verified_purchase    object\n",
       "review_headline      object\n",
       "review_body          object\n",
       "review_date          object\n",
       "dtype: object"
      ]
     },
     "execution_count": 4,
     "metadata": {},
     "output_type": "execute_result"
    }
   ],
   "source": [
    "raw_data.dtypes"
   ]
  },
  {
   "cell_type": "code",
   "execution_count": 5,
   "metadata": {},
   "outputs": [
    {
     "data": {
      "text/plain": [
       "0        B00428R89M\n",
       "1        B000068O48\n",
       "2        B000GGKOG8\n",
       "3        B000NU4OTA\n",
       "4        B00JOQIO6S\n",
       "5        B008NCD2LG\n",
       "6        B00007FGUF\n",
       "7        B00M9V2RMM\n",
       "8        B00J3O9DYI\n",
       "9        B00NS1A0E4\n",
       "10       B007B5V092\n",
       "11       B00IODHGVG\n",
       "12       B0035PBHX6\n",
       "13       B00K1JJWFO\n",
       "14       B00S3LJ5EA\n",
       "15       B00B5QNGN6\n",
       "16       B00PLE8QF6\n",
       "17       B00GHUSIU6\n",
       "18       B0045EJY90\n",
       "19       B003BT6BM8\n",
       "20       B012VIWG28\n",
       "21       B00FZ1AAUE\n",
       "22       B00F2FHYM0\n",
       "23       B00P936188\n",
       "24       B0045RU68U\n",
       "25       B00ESM3ZHG\n",
       "26       B007SP2CO2\n",
       "27       B0111ASH0M\n",
       "28       B002JR2V7C\n",
       "29       B0002QLDLC\n",
       "            ...    \n",
       "89970    B00DZVPFGU\n",
       "89971    B000F28DP2\n",
       "89972    B00GZC35YK\n",
       "89973    B00GWVC39W\n",
       "89974    B00NKZ5R28\n",
       "89975    B00BCA40S0\n",
       "89976    B001FA1NW8\n",
       "89977    B0040IAZ0S\n",
       "89978    B0038O9R86\n",
       "89979    B0012OP7HE\n",
       "89980    B00TR0NQSC\n",
       "89981    B00W434V24\n",
       "89982    B000X9O8SI\n",
       "89983    B000EBPJCO\n",
       "89984    B00WT35YXY\n",
       "89985    B00AEMGGU2\n",
       "89986    B004CHHLDG\n",
       "89987    B004LT2C5W\n",
       "89988    B00KUB3RCW\n",
       "89989    B00TEOS8EI\n",
       "89990    B00RFLGESE\n",
       "89991    B008CQVWN8\n",
       "89992    B00O6NHE1K\n",
       "89993    B002D3TXY6\n",
       "89994    B00PDEZIPA\n",
       "89995    B00RFLXDII\n",
       "89996    B00IYA2YRK\n",
       "89997    B00BJ17WKK\n",
       "89998    B006QYQ0MG\n",
       "89999    B00TKMG4P4\n",
       "Name: product_id, Length: 90000, dtype: object"
      ]
     },
     "execution_count": 5,
     "metadata": {},
     "output_type": "execute_result"
    }
   ],
   "source": [
    "raw_data['product_id']"
   ]
  },
  {
   "cell_type": "code",
   "execution_count": 43,
   "metadata": {
    "scrolled": false
   },
   "outputs": [
    {
     "data": {
      "text/plain": [
       "marketplace          False\n",
       "customer_id          False\n",
       "review_id            False\n",
       "product_id           False\n",
       "product_parent       False\n",
       "product_title        False\n",
       "product_category     False\n",
       "star_rating          False\n",
       "helpful_votes        False\n",
       "total_votes          False\n",
       "vine                 False\n",
       "verified_purchase    False\n",
       "review_headline      False\n",
       "review_body           True\n",
       "review_date          False\n",
       "dtype: bool"
      ]
     },
     "execution_count": 43,
     "metadata": {},
     "output_type": "execute_result"
    }
   ],
   "source": [
    "raw_data.isna().any()"
   ]
  }
 ],
 "metadata": {
  "kernelspec": {
   "display_name": "Python 3",
   "language": "python",
   "name": "python3"
  },
  "language_info": {
   "codemirror_mode": {
    "name": "ipython",
    "version": 3
   },
   "file_extension": ".py",
   "mimetype": "text/x-python",
   "name": "python",
   "nbconvert_exporter": "python",
   "pygments_lexer": "ipython3",
   "version": "3.6.6"
  }
 },
 "nbformat": 4,
 "nbformat_minor": 2
}
