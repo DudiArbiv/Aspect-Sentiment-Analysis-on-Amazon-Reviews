{
 "cells": [
  {
   "cell_type": "code",
   "execution_count": 2,
   "metadata": {},
   "outputs": [],
   "source": [
    "import os\n",
    "import sys\n",
    "import numpy as np \n",
    "import pandas as pd"
   ]
  },
  {
   "cell_type": "code",
   "execution_count": 3,
   "metadata": {
    "scrolled": true
   },
   "outputs": [
    {
     "name": "stderr",
     "output_type": "stream",
     "text": [
      "b'Skipping line 9076: expected 15 fields, saw 22\\nSkipping line 19256: expected 15 fields, saw 22\\nSkipping line 24313: expected 15 fields, saw 22\\nSkipping line 47211: expected 15 fields, saw 22\\nSkipping line 54295: expected 15 fields, saw 22\\nSkipping line 56641: expected 15 fields, saw 22\\nSkipping line 63067: expected 15 fields, saw 22\\n'\n"
     ]
    }
   ],
   "source": [
    "# importing data\n",
    "BASE_PATH = os.path.abspath(os.path.join('..')) # base path of project\n",
    "\n",
    "file_path = BASE_PATH + '/data/raw/amazon_reviews_us_Electronics_v1_00.tsv'\n",
    "\n",
    "raw_data = pd.read_table(file_path,error_bad_lines=False, nrows=90000)\n",
    "\n",
    "#There are some bad rows, where pandas saw 22 columns instead of 15. Might be because of tabs in review content! \n",
    "#TODO - Can we do something so we dont have to drop them??"
   ]
  },
  {
   "cell_type": "code",
   "execution_count": 4,
   "metadata": {
    "scrolled": true
   },
   "outputs": [
    {
     "data": {
      "text/plain": [
       "marketplace          object\n",
       "customer_id           int64\n",
       "review_id            object\n",
       "product_id           object\n",
       "product_parent        int64\n",
       "product_title        object\n",
       "product_category     object\n",
       "star_rating           int64\n",
       "helpful_votes         int64\n",
       "total_votes           int64\n",
       "vine                 object\n",
       "verified_purchase    object\n",
       "review_headline      object\n",
       "review_body          object\n",
       "review_date          object\n",
       "dtype: object"
      ]
     },
     "execution_count": 4,
     "metadata": {},
     "output_type": "execute_result"
    }
   ],
   "source": [
    "raw_data.dtypes"
   ]
  },
  {
   "cell_type": "code",
   "execution_count": 43,
   "metadata": {
    "scrolled": true
   },
   "outputs": [
    {
     "data": {
      "text/plain": [
       "marketplace          False\n",
       "customer_id          False\n",
       "review_id            False\n",
       "product_id           False\n",
       "product_parent       False\n",
       "product_title        False\n",
       "product_category     False\n",
       "star_rating          False\n",
       "helpful_votes        False\n",
       "total_votes          False\n",
       "vine                 False\n",
       "verified_purchase    False\n",
       "review_headline      False\n",
       "review_body           True\n",
       "review_date          False\n",
       "dtype: bool"
      ]
     },
     "execution_count": 43,
     "metadata": {},
     "output_type": "execute_result"
    }
   ],
   "source": [
    "raw_data.isna().any()"
   ]
  }
 ],
 "metadata": {
  "kernelspec": {
   "display_name": "Python 3",
   "language": "python",
   "name": "python3"
  },
  "language_info": {
   "codemirror_mode": {
    "name": "ipython",
    "version": 3
   },
   "file_extension": ".py",
   "mimetype": "text/x-python",
   "name": "python",
   "nbconvert_exporter": "python",
   "pygments_lexer": "ipython3",
   "version": "3.6.6"
  }
 },
 "nbformat": 4,
 "nbformat_minor": 2
}
