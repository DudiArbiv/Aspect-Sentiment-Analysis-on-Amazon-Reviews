{
 "cells": [
  {
   "cell_type": "code",
   "execution_count": 2,
   "metadata": {},
   "outputs": [],
   "source": [
    "import json\n",
    "import sys\n",
    "from time import time"
   ]
  },
  {
   "cell_type": "code",
   "execution_count": 2,
   "metadata": {},
   "outputs": [],
   "source": [
    "with open(\"results_file_4L.json\", \"r\") as f:\n",
    "    newText = f.read().replace('][',',')\n",
    "\n",
    "\n",
    "with open(\"results_file_4L_encoded.json\", \"w\") as f1:\n",
    "    f1.write(newText)\n"
   ]
  },
  {
   "cell_type": "code",
   "execution_count": 3,
   "metadata": {},
   "outputs": [
    {
     "data": {
      "text/plain": [
       "6.319390773773193"
      ]
     },
     "execution_count": 3,
     "metadata": {},
     "output_type": "execute_result"
    }
   ],
   "source": [
    "t1 = time()\n",
    "with open(\"src/data/reviews_mapping.json\", 'r') as fobj:\n",
    "    results = json.load(fobj)\n",
    "t2 = time()\n",
    "t2-t1"
   ]
  },
  {
   "cell_type": "code",
   "execution_count": 4,
   "metadata": {},
   "outputs": [
    {
     "data": {
      "text/plain": [
       "{'B00428R89M': [{'review_id': 'R2MTG1GCZLR2DK', 'aspect_pairs': []},\n",
       "  {'review_id': 'R20IUYDSN46FX3',\n",
       "   'aspect_pairs': [{'noun': 'wire',\n",
       "     'adj': 'long',\n",
       "     'rule': 1,\n",
       "     'polarity': 0.0,\n",
       "     'cluster': 'wire'},\n",
       "    {'noun': 'antenna',\n",
       "     'adj': 'link',\n",
       "     'rule': 1,\n",
       "     'polarity': 0.0,\n",
       "     'cluster': 'signal'},\n",
       "    {'noun': 'difference',\n",
       "     'adj': 'much',\n",
       "     'rule': 1,\n",
       "     'polarity': 0.0,\n",
       "     'cluster': 'product'},\n",
       "    {'noun': 'wire',\n",
       "     'adj': 'even better',\n",
       "     'rule': 1,\n",
       "     'polarity': 0.4404,\n",
       "     'cluster': 'wire'},\n",
       "    {'noun': 'wire',\n",
       "     'adj': 'thinner',\n",
       "     'rule': 1,\n",
       "     'polarity': 0.0,\n",
       "     'cluster': 'wire'},\n",
       "    {'noun': 'conductor',\n",
       "     'adj': 'more efficient',\n",
       "     'rule': 1,\n",
       "     'polarity': 0.4215,\n",
       "     'cluster': 'wire'},\n",
       "    {'noun': 'signals',\n",
       "     'adj': 'captured',\n",
       "     'rule': 1,\n",
       "     'polarity': 0.0,\n",
       "     'cluster': 'signal'},\n",
       "    {'noun': 'wire',\n",
       "     'adj': 'thin',\n",
       "     'rule': 3,\n",
       "     'polarity': 0.0,\n",
       "     'cluster': 'wire'},\n",
       "    {'noun': 'wire',\n",
       "     'adj': 'not thinner',\n",
       "     'rule': 3,\n",
       "     'polarity': 0.0,\n",
       "     'cluster': 'wire'},\n",
       "    {'noun': 'wire',\n",
       "     'adj': 'longer',\n",
       "     'rule': 4,\n",
       "     'polarity': 0.0,\n",
       "     'cluster': 'wire'},\n",
       "    {'noun': 'wire',\n",
       "     'adj': 'maybe',\n",
       "     'rule': 4,\n",
       "     'polarity': 0.0,\n",
       "     'cluster': 'wire'},\n",
       "    {'noun': 'wire',\n",
       "     'adj': '3.52',\n",
       "     'rule': 7,\n",
       "     'polarity': 0.0,\n",
       "     'cluster': 'wire'},\n",
       "    {'noun': 'wire',\n",
       "     'adj': 'conductor',\n",
       "     'rule': 7,\n",
       "     'polarity': 0.0,\n",
       "     'cluster': 'wire'}]},\n",
       "  {'review_id': 'R2873B6T338EVD',\n",
       "   'aspect_pairs': [{'noun': 'amount',\n",
       "     'adj': 'acceptable',\n",
       "     'rule': 1,\n",
       "     'polarity': 0.3182,\n",
       "     'cluster': 'product'}]},\n",
       "  {'review_id': 'RXXO73KHDNP24',\n",
       "   'aspect_pairs': [{'noun': 'one',\n",
       "     'adj': 'second',\n",
       "     'rule': 1,\n",
       "     'polarity': 0.0,\n",
       "     'cluster': 'product'},\n",
       "    {'noun': 'product',\n",
       "     'adj': 'fine',\n",
       "     'rule': 3,\n",
       "     'polarity': 0.0,\n",
       "     'cluster': 'product'},\n",
       "    {'noun': 'product',\n",
       "     'adj': 'delicate',\n",
       "     'rule': 3,\n",
       "     'polarity': 0.0,\n",
       "     'cluster': 'product'},\n",
       "    {'noun': 'product',\n",
       "     'adj': 'perhaps',\n",
       "     'rule': 4,\n",
       "     'polarity': 0.0,\n",
       "     'cluster': 'product'},\n",
       "    {'noun': 'product',\n",
       "     'adj': 'one',\n",
       "     'rule': 7,\n",
       "     'polarity': 0.0,\n",
       "     'cluster': 'product'}]},\n",
       "  {'review_id': 'R15NDCBDZX4VGC', 'aspect_pairs': []},\n",
       "  {'review_id': 'R2K0RAEP6UJH05', 'aspect_pairs': []},\n",
       "  {'review_id': 'R95MLKHPAJLI8',\n",
       "   'aspect_pairs': [{'noun': 'cable',\n",
       "     'adj': 'good',\n",
       "     'rule': 1,\n",
       "     'polarity': 0.4404,\n",
       "     'cluster': 'wire'}]},\n",
       "  {'review_id': 'RX1JB5MLLCILH', 'aspect_pairs': []},\n",
       "  {'review_id': 'R1TM7SXK2RGD6',\n",
       "   'aspect_pairs': [{'noun': 'delivery',\n",
       "     'adj': 'fast',\n",
       "     'rule': 1,\n",
       "     'polarity': 0.0,\n",
       "     'cluster': 'delivery'}]},\n",
       "  {'review_id': 'R2SS86025NRZJE', 'aspect_pairs': []},\n",
       "  {'review_id': 'R1K7K9DYKS8WZO', 'aspect_pairs': []},\n",
       "  {'review_id': 'R2I827KG9NMVMR',\n",
       "   'aspect_pairs': [{'noun': 'product',\n",
       "     'adj': 'much earlier',\n",
       "     'rule': 4,\n",
       "     'polarity': 0.0,\n",
       "     'cluster': 'product'}]},\n",
       "  {'review_id': 'R3GUXWHR352TVS',\n",
       "   'aspect_pairs': [{'noun': 'cable',\n",
       "     'adj': 'right',\n",
       "     'rule': 1,\n",
       "     'polarity': 0.0,\n",
       "     'cluster': 'wire'},\n",
       "    {'noun': 'ends',\n",
       "     'adj': 'male',\n",
       "     'rule': 1,\n",
       "     'polarity': 0.0,\n",
       "     'cluster': 'product'}]},\n",
       "  {'review_id': 'RAQKVRR50YCIP',\n",
       "   'aspect_pairs': [{'noun': 'location',\n",
       "     'adj': 'beter',\n",
       "     'rule': 1,\n",
       "     'polarity': 0.0,\n",
       "     'cluster': 'product'}]},\n",
       "  {'review_id': 'R2CF2838V8T3LD',\n",
       "   'aspect_pairs': [{'noun': 'product',\n",
       "     'adj': 'merely',\n",
       "     'rule': 4,\n",
       "     'polarity': 0.0,\n",
       "     'cluster': 'product'},\n",
       "    {'noun': 'product',\n",
       "     'adj': 'cable',\n",
       "     'rule': 7,\n",
       "     'polarity': 0.0,\n",
       "     'cluster': 'product'}]},\n",
       "  {'review_id': 'R3K0RJ6O5LDFUB', 'aspect_pairs': []},\n",
       "  {'review_id': 'R2UC4GBWTH2OI7',\n",
       "   'aspect_pairs': [{'noun': 'signal',\n",
       "     'adj': 'poor',\n",
       "     'rule': 1,\n",
       "     'polarity': -0.4767,\n",
       "     'cluster': 'signal'},\n",
       "    {'noun': 'something',\n",
       "     'adj': 'too long',\n",
       "     'rule': 1,\n",
       "     'polarity': 0.0,\n",
       "     'cluster': 'product'},\n",
       "    {'noun': 'cable',\n",
       "     'adj': 'nice',\n",
       "     'rule': 3,\n",
       "     'polarity': 0.0,\n",
       "     'cluster': 'wire'},\n",
       "    {'noun': 'signal',\n",
       "     'adj': 'already',\n",
       "     'rule': 4,\n",
       "     'polarity': 0.0,\n",
       "     'cluster': 'signal'},\n",
       "    {'noun': 'signal',\n",
       "     'adj': 'signal',\n",
       "     'rule': 7,\n",
       "     'polarity': 0.0,\n",
       "     'cluster': 'signal'}]},\n",
       "  {'review_id': 'R1ULU11LCGV2V9',\n",
       "   'aspect_pairs': [{'noun': 'one',\n",
       "     'adj': 'right',\n",
       "     'rule': 1,\n",
       "     'polarity': 0.0,\n",
       "     'cluster': 'product'},\n",
       "    {'noun': 'connectors',\n",
       "     'adj': 'not fit',\n",
       "     'rule': 3,\n",
       "     'polarity': 0.0,\n",
       "     'cluster': 'wire'}]},\n",
       "  {'review_id': 'R1DDU0P1OMKKWF',\n",
       "   'aspect_pairs': [{'noun': 'extension',\n",
       "     'adj': 'good',\n",
       "     'rule': 1,\n",
       "     'polarity': 0.4404,\n",
       "     'cluster': 'product'},\n",
       "    {'noun': 'antenna',\n",
       "     'adj': 'extra',\n",
       "     'rule': 1,\n",
       "     'polarity': 0.0,\n",
       "     'cluster': 'signal'}]},\n",
       "  {'review_id': 'R1H6QGIKBCX965', 'aspect_pairs': []},\n",
       "  {'review_id': 'R34RK2X2801BYK',\n",
       "   'aspect_pairs': [{'noun': 'cable',\n",
       "     'adj': 'good',\n",
       "     'rule': 1,\n",
       "     'polarity': 0.4404,\n",
       "     'cluster': 'wire'},\n",
       "    {'noun': 'distance',\n",
       "     'adj': 'extra',\n",
       "     'rule': 1,\n",
       "     'polarity': 0.0,\n",
       "     'cluster': 'product'}]},\n",
       "  {'review_id': 'RFJLQTZ1DXVD3',\n",
       "   'aspect_pairs': [{'noun': 'stores',\n",
       "     'adj': 'several',\n",
       "     'rule': 1,\n",
       "     'polarity': 0.0,\n",
       "     'cluster': 'product'}]},\n",
       "  {'review_id': 'RNAI3ZGDXEKKS',\n",
       "   'aspect_pairs': [{'noun': 'losses',\n",
       "     'adj': 'high',\n",
       "     'rule': 3,\n",
       "     'polarity': 0.0,\n",
       "     'cluster': 'product'}]},\n",
       "  {'review_id': 'R3H543AIV4OHMY', 'aspect_pairs': []},\n",
       "  {'review_id': 'R33ZGCMZUI2XN1',\n",
       "   'aspect_pairs': [{'noun': 'signal',\n",
       "     'adj': 'lost',\n",
       "     'rule': 3,\n",
       "     'polarity': 0.0,\n",
       "     'cluster': 'signal'},\n",
       "    {'noun': 'signal',\n",
       "     'adj': 'often',\n",
       "     'rule': 4,\n",
       "     'polarity': 0.0,\n",
       "     'cluster': 'signal'},\n",
       "    {'noun': 'product',\n",
       "     'adj': 'better',\n",
       "     'rule': 4,\n",
       "     'polarity': 0.0,\n",
       "     'cluster': 'product'}]},\n",
       "  {'review_id': 'RY5OJTY33LYN7',\n",
       "   'aspect_pairs': [{'noun': 'loss',\n",
       "     'adj': 'too small',\n",
       "     'rule': 1,\n",
       "     'polarity': 0.0,\n",
       "     'cluster': 'product'},\n",
       "    {'noun': 'loss',\n",
       "     'adj': 'too much',\n",
       "     'rule': 1,\n",
       "     'polarity': 0.0,\n",
       "     'cluster': 'product'},\n",
       "    {'noun': 'cables',\n",
       "     'adj': 'better',\n",
       "     'rule': 1,\n",
       "     'polarity': 0.4404,\n",
       "     'cluster': 'wire'}]},\n",
       "  {'review_id': 'RCAP7BSS5VFRP', 'aspect_pairs': []},\n",
       "  {'review_id': 'R329E10EN7BHE3', 'aspect_pairs': []},\n",
       "  {'review_id': 'R3ESETV6584I4J',\n",
       "   'aspect_pairs': [{'noun': 'cable',\n",
       "     'adj': 'severely',\n",
       "     'rule': 4,\n",
       "     'polarity': 0.0,\n",
       "     'cluster': 'wire'}]},\n",
       "  {'review_id': 'R2TSPPKLW4NUW2',\n",
       "   'aspect_pairs': [{'noun': 'shipping',\n",
       "     'adj': 'fast',\n",
       "     'rule': 1,\n",
       "     'polarity': 0.0,\n",
       "     'cluster': 'delivery'}]}]}"
      ]
     },
     "execution_count": 4,
     "metadata": {},
     "output_type": "execute_result"
    }
   ],
   "source": [
    "results[0]"
   ]
  },
  {
   "cell_type": "code",
   "execution_count": null,
   "metadata": {},
   "outputs": [],
   "source": [
    "for prod in results:\n",
    "    "
   ]
  },
  {
   "cell_type": "code",
   "execution_count": 1,
   "metadata": {},
   "outputs": [
    {
     "data": {
      "text/plain": [
       "[['human', 'interface', 'computer'],\n",
       " ['survey', 'user', 'computer', 'system', 'response', 'time'],\n",
       " ['eps', 'user', 'interface', 'system'],\n",
       " ['system', 'human', 'system', 'eps'],\n",
       " ['user', 'response', 'time'],\n",
       " ['trees'],\n",
       " ['graph', 'trees'],\n",
       " ['graph', 'minors', 'trees'],\n",
       " ['graph', 'minors', 'survey']]"
      ]
     },
     "execution_count": 1,
     "metadata": {},
     "output_type": "execute_result"
    }
   ],
   "source": [
    "from gensim.models import Word2Vec\n",
    "from gensim.test.utils import get_tmpfile, common_texts\n",
    "common_texts\n",
    "# model = Word2Vec.load()\n",
    "# model.similarity('france', 'spain')"
   ]
  },
  {
   "cell_type": "code",
   "execution_count": 2,
   "metadata": {},
   "outputs": [],
   "source": [
    "words = [['antenna','signals'],\n",
    "         ['difference','amount',],\n",
    "         ['wire','conductor','cable']]"
   ]
  },
  {
   "cell_type": "code",
   "execution_count": 4,
   "metadata": {},
   "outputs": [
    {
     "data": {
      "text/plain": [
       "-0.03387895868808233"
      ]
     },
     "execution_count": 4,
     "metadata": {},
     "output_type": "execute_result"
    }
   ],
   "source": [
    "# model = word2vec.Word2Vec(common_texts, min_count=1)\n",
    "# path = get_tmpfile(\"Word2Vec.model\")\n",
    "model = Word2Vec(words, size=100, window=5, min_count=1, workers=4)\n",
    "# model.save(\"word2vec.model\")\n",
    "result = model.wv.similarity(\"cable\", \"wire\")\n",
    "result"
   ]
  },
  {
   "cell_type": "code",
   "execution_count": 19,
   "metadata": {},
   "outputs": [],
   "source": [
    "from nltk.sentiment.vader import SentimentIntensityAnalyzer\n",
    "sid = SentimentIntensityAnalyzer()"
   ]
  },
  {
   "cell_type": "code",
   "execution_count": 20,
   "metadata": {},
   "outputs": [
    {
     "data": {
      "text/plain": [
       "{'neg': 0.0, 'neu': 1.0, 'pos': 0.0, 'compound': 0.0}"
      ]
     },
     "execution_count": 20,
     "metadata": {},
     "output_type": "execute_result"
    }
   ],
   "source": [
    "sid.polarity_scores('better')"
   ]
  },
  {
   "cell_type": "code",
   "execution_count": null,
   "metadata": {},
   "outputs": [],
   "source": []
  }
 ],
 "metadata": {
  "kernelspec": {
   "display_name": "Python 3",
   "language": "python",
   "name": "python3"
  },
  "language_info": {
   "codemirror_mode": {
    "name": "ipython",
    "version": 3
   },
   "file_extension": ".py",
   "mimetype": "text/x-python",
   "name": "python",
   "nbconvert_exporter": "python",
   "pygments_lexer": "ipython3",
   "version": "3.6.6"
  }
 },
 "nbformat": 4,
 "nbformat_minor": 2
}
