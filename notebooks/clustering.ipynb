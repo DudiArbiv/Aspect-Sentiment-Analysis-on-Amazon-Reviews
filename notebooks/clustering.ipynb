{
 "cells": [
  {
   "cell_type": "code",
   "execution_count": 28,
   "metadata": {},
   "outputs": [],
   "source": [
    "import pandas as pd\n",
    "import json\n",
    "import ast\n",
    "import spacy\n",
    "from sklearn import cluster\n",
    "from collections import defaultdict\n",
    "from time import time\n",
    "\n",
    "NUM_CLUSTERS = 5"
   ]
  },
  {
   "cell_type": "code",
   "execution_count": 2,
   "metadata": {},
   "outputs": [],
   "source": [
    "with open('results_file_aspects.txt', 'r') as fobj:\n",
    "    #     data = json.load(fobj)\\n\",\n",
    "    data = fobj.readlines()"
   ]
  },
  {
   "cell_type": "code",
   "execution_count": 12,
   "metadata": {},
   "outputs": [],
   "source": [
    "with open('data.json', 'r') as fobj:\n",
    "    data1 = json.load(fobj)"
   ]
  },
  {
   "cell_type": "code",
   "execution_count": 5,
   "metadata": {},
   "outputs": [],
   "source": [
    "reviews_data = []\n",
    "for line in data:\n",
    "#         print(i)\n",
    "    reviews_data.append(ast.literal_eval(line))"
   ]
  },
  {
   "cell_type": "code",
   "execution_count": 8,
   "metadata": {},
   "outputs": [
    {
     "data": {
      "text/plain": [
       "{'review_id': 'R3W4P9UBGNGH1U',\n",
       " 'aspect_pairs': [('as', 'usual', 0.0, 1),\n",
       "  ('charging', 'wireless', 0.0, 1),\n",
       "  ('product', 'nice', 0.4215, 3),\n",
       "  ('battery', 'twice fast', 0.0, 4),\n",
       "  ('charging', \"n't second\", 0.0, 4),\n",
       "  ('watch', 'fine', 0.2023, 4)],\n",
       " 'review_marketplace': 'US',\n",
       " 'customer_id': 16414143,\n",
       " 'product_id': 'B00YL0EKWE',\n",
       " 'product_parent': 852431543,\n",
       " 'product_title': 'LG G4 Case Hard Transparent Slim Clear Cover for LG G4',\n",
       " 'product_category': 'Wireless',\n",
       " 'date': '2015-08-31 00:00:00',\n",
       " 'star_rating': 2,\n",
       " 'url': 'http://amazon.com/dp/B00YL0EKWE'}"
      ]
     },
     "execution_count": 8,
     "metadata": {},
     "output_type": "execute_result"
    }
   ],
   "source": [
    "reviews_data[0]"
   ]
  },
  {
   "cell_type": "code",
   "execution_count": 30,
   "metadata": {},
   "outputs": [],
   "source": [
    "def get_unique_product_ids(reviews_data):\n",
    "    product_ids = []\n",
    "    product_ids = [r['product_id'] for r in reviews_data]\n",
    "    return list(set(product_ids))\n",
    "\n",
    "def get_aspects(reviews_data):\n",
    "    aspects = []\n",
    "    for review in reviews_data:\n",
    "        aspect_pairs = review[\"aspect_pairs\"]\n",
    "        for noun,_,_,_ in aspect_pairs:\n",
    "            aspects.append(noun)\n",
    "    # aspects = [r['aspect_pairs'][0] for r in reviews_data]\n",
    "    return aspects\n",
    "\n",
    "def get_aspect_freq_map(aspects):\n",
    "    aspect_freq_map = defaultdict(int)\n",
    "    for asp in aspects:\n",
    "        aspect_freq_map[asp] += 1\n",
    "    return aspect_freq_map\n",
    "\n",
    "def get_unique_aspects(aspects):\n",
    "    unique_aspects = list(set(aspects)) # use this list for clustering\n",
    "    return unique_aspects\n",
    "\n",
    "\n",
    "def get_word_vectors(unique_aspects, nlp):\n",
    "    asp_vectors = []\n",
    "    for aspect in unique_aspects:\n",
    "        # print(aspect)\n",
    "        token = nlp(aspect)\n",
    "        asp_vectors.append(token.vector)\n",
    "    return asp_vectors\n",
    "\n",
    "def get_word_clusters(unique_aspects, nlp):\n",
    "    # print(\"Found {} unique aspects for this product\".format(len(unique_aspects)))\n",
    "    asp_vectors = get_word_vectors(unique_aspects, nlp)\n",
    "    # n_clusters = min(NUM_CLUSTERS,len(unique_aspects))\n",
    "    if len(unique_aspects) <= NUM_CLUSTERS:\n",
    "        # print(\"Too few aspects ({}) found. No clustering required...\".format(len(unique_aspects)))\n",
    "        return list(range(len(unique_aspects)))\n",
    "\n",
    "#     print(\"Running k-means clustering...\")\n",
    "    n_clusters = NUM_CLUSTERS\n",
    "    kmeans = cluster.KMeans(n_clusters=n_clusters)\n",
    "    kmeans.fit(asp_vectors)\n",
    "    labels = kmeans.labels_\n",
    "    # print(\"Finished running k-means clustering with {} labels\".format(len(labels)))\n",
    "    return labels\n",
    "\n",
    "def get_cluster_names_map(asp_to_cluster_map, aspect_freq_map):\n",
    "    cluster_id_to_name_map = defaultdict()\n",
    "    # cluster_to_asp_map = defaultdict()\n",
    "    n_clusters = len(set(asp_to_cluster_map.values()))\n",
    "    for i in range(n_clusters):\n",
    "        this_cluster_asp = [k for k,v in asp_to_cluster_map.items() if v == i]\n",
    "        filt_freq_map = {k:v for k,v in aspect_freq_map.items() if k in this_cluster_asp}\n",
    "        filt_freq_map = sorted(filt_freq_map.items(), key = lambda x: x[1], reverse = True)\n",
    "        cluster_id_to_name_map[i] = filt_freq_map[0][0]\n",
    "\n",
    "        # cluster_to_asp_map[i] = cluster_nouns\n",
    "\n",
    "    # print(cluster_to_asp_map)\n",
    "    return cluster_id_to_name_map\n",
    "\n"
   ]
  },
  {
   "cell_type": "code",
   "execution_count": 31,
   "metadata": {},
   "outputs": [],
   "source": [
    "def add_clusters_to_reviews(reviews_data, nlp):\n",
    "    product_aspects = get_aspects(reviews_data)\n",
    "    # print(\"Total aspects found: {}\".format(len(product_aspects)))\n",
    "    aspect_freq_map = get_aspect_freq_map(product_aspects)\n",
    "    unique_aspects = aspect_freq_map.keys()\n",
    "    # print(\"Runnig clustering on {} unique aspects\".format(len(unique_aspects)))\n",
    "\n",
    "    aspect_labels = get_word_clusters(unique_aspects, nlp)\n",
    "    asp_to_cluster_map = dict(zip(unique_aspects, aspect_labels))\n",
    "    cluster_names_map = get_cluster_names_map(asp_to_cluster_map, aspect_freq_map)\n",
    "    updated_reviews = []\n",
    "    \n",
    "    for review in reviews_data:\n",
    "#         cluster_mapping = []\n",
    "        result = []\n",
    "        aspect_pairs = review[\"aspect_pairs\"]\n",
    "        for noun,adj,polarity,rule  in aspect_pairs:\n",
    "            cluster_label_id = asp_to_cluster_map[noun]\n",
    "            cluster_label_name = cluster_names_map[cluster_label_id]\n",
    "#             cluster_mapping.append(cluster_label_name)\n",
    "            result.append({'noun':noun, 'adj':adj, 'rule':rule, 'polarity':polarity, 'cluster':cluster_label_name})\n",
    "\n",
    "        assert len(result) == len(aspect_pairs)\n",
    "#         review['aspect_pairs'] = result\n",
    "    # all_label_ids = []\n",
    "    # for asp in all_aspects:\n",
    "    #     this_label = asp_to_cluster_id_map[asp]\n",
    "    #     this_label_name = cluster_names_map[this_label]\n",
    "    #     all_label_ids.append(this_label)\n",
    "    #     all_label_names.append(this_label_name)\n",
    "\n",
    "        updated_reviews.append({'review_id':review['review_id'], 'product_id':review['product_id'], 'aspect_pairs':result})\n",
    "    \n",
    "    return updated_reviews\n",
    "\n",
    "def update_reviews_data(reviews_data, nlp):\n",
    "    updated_reviews = []\n",
    "    product_ids = get_unique_product_ids(reviews_data)\n",
    "    print(\"Total number of unique products in this category: {}\".format(len(product_ids)))\n",
    "\n",
    "    no_asp_reviews = [r for r in reviews_data if len(r['aspect_pairs']) == 0]\n",
    "    print(\"Total reviews found with no aspect pairs: {}\".format(len(no_asp_reviews)))\n",
    "\n",
    "    for prod_id in product_ids:\n",
    "#         print(\"\\nRunning clustering for product ID - {}\".format(prod_id))\n",
    "        this_product_reviews = [r for r in reviews_data if r['product_id'] == prod_id]\n",
    "        # this_no_asp_reviews = [r for r in this_product_reviews if len(r['aspect_pairs']) == 0]\n",
    "        # print(\"Total reviews found: {}. Reviews with no aspect pairs: {}\".format(len(this_product_reviews), len(this_no_asp_reviews)))\n",
    "\n",
    "        this_product_upd_reviews = add_clusters_to_reviews(this_product_reviews, nlp)\n",
    "        updated_reviews.extend(this_product_upd_reviews)\n",
    "\n",
    "    print(\"\\n----------------***----------------\")\n",
    "    print(\"Updating final results\")\n",
    "    with open('results_file.json', 'a') as f:\n",
    "        json.dump(updated_reviews,f)\n",
    "    print(\"Finished writing results to json!!\")\n",
    "    print(\"----------------***----------------\")\n",
    "    "
   ]
  },
  {
   "cell_type": "code",
   "execution_count": 11,
   "metadata": {},
   "outputs": [
    {
     "name": "stdout",
     "output_type": "stream",
     "text": [
      "\n",
      "Loading spaCy Model....\n",
      "spaCy successfully loaded\n"
     ]
    }
   ],
   "source": [
    "print(\"\\nLoading spaCy Model....\")\n",
    "nlp = spacy.load('en_core_web_lg')\n",
    "print(\"spaCy successfully loaded\")"
   ]
  },
  {
   "cell_type": "code",
   "execution_count": 32,
   "metadata": {},
   "outputs": [
    {
     "name": "stdout",
     "output_type": "stream",
     "text": [
      "Running clustering...\n",
      "Total number of unique products in this category: 248565\n",
      "Total reviews found with no aspect pairs: 367423\n"
     ]
    },
    {
     "ename": "KeyboardInterrupt",
     "evalue": "",
     "output_type": "error",
     "traceback": [
      "\u001b[0;31m---------------------------------------------------------------------------\u001b[0m",
      "\u001b[0;31mKeyboardInterrupt\u001b[0m                         Traceback (most recent call last)",
      "\u001b[0;32m<ipython-input-32-87c4903bb348>\u001b[0m in \u001b[0;36m<module>\u001b[0;34m\u001b[0m\n\u001b[1;32m      1\u001b[0m \u001b[0mprint\u001b[0m\u001b[0;34m(\u001b[0m\u001b[0;34m\"Running clustering...\"\u001b[0m\u001b[0;34m)\u001b[0m\u001b[0;34m\u001b[0m\u001b[0m\n\u001b[0;32m----> 2\u001b[0;31m \u001b[0mupdate_reviews_data\u001b[0m\u001b[0;34m(\u001b[0m\u001b[0mreviews_data\u001b[0m\u001b[0;34m,\u001b[0m \u001b[0mnlp\u001b[0m\u001b[0;34m)\u001b[0m\u001b[0;34m\u001b[0m\u001b[0m\n\u001b[0m",
      "\u001b[0;32m<ipython-input-31-fb73afc21c45>\u001b[0m in \u001b[0;36mupdate_reviews_data\u001b[0;34m(reviews_data, nlp)\u001b[0m\n\u001b[1;32m     44\u001b[0m     \u001b[0;32mfor\u001b[0m \u001b[0mprod_id\u001b[0m \u001b[0;32min\u001b[0m \u001b[0mproduct_ids\u001b[0m\u001b[0;34m:\u001b[0m\u001b[0;34m\u001b[0m\u001b[0m\n\u001b[1;32m     45\u001b[0m \u001b[0;31m#         print(\"\\nRunning clustering for product ID - {}\".format(prod_id))\u001b[0m\u001b[0;34m\u001b[0m\u001b[0;34m\u001b[0m\u001b[0m\n\u001b[0;32m---> 46\u001b[0;31m         \u001b[0mthis_product_reviews\u001b[0m \u001b[0;34m=\u001b[0m \u001b[0;34m[\u001b[0m\u001b[0mr\u001b[0m \u001b[0;32mfor\u001b[0m \u001b[0mr\u001b[0m \u001b[0;32min\u001b[0m \u001b[0mreviews_data\u001b[0m \u001b[0;32mif\u001b[0m \u001b[0mr\u001b[0m\u001b[0;34m[\u001b[0m\u001b[0;34m'product_id'\u001b[0m\u001b[0;34m]\u001b[0m \u001b[0;34m==\u001b[0m \u001b[0mprod_id\u001b[0m\u001b[0;34m]\u001b[0m\u001b[0;34m\u001b[0m\u001b[0m\n\u001b[0m\u001b[1;32m     47\u001b[0m         \u001b[0;31m# this_no_asp_reviews = [r for r in this_product_reviews if len(r['aspect_pairs']) == 0]\u001b[0m\u001b[0;34m\u001b[0m\u001b[0;34m\u001b[0m\u001b[0m\n\u001b[1;32m     48\u001b[0m         \u001b[0;31m# print(\"Total reviews found: {}. Reviews with no aspect pairs: {}\".format(len(this_product_reviews), len(this_no_asp_reviews)))\u001b[0m\u001b[0;34m\u001b[0m\u001b[0;34m\u001b[0m\u001b[0m\n",
      "\u001b[0;32m<ipython-input-31-fb73afc21c45>\u001b[0m in \u001b[0;36m<listcomp>\u001b[0;34m(.0)\u001b[0m\n\u001b[1;32m     44\u001b[0m     \u001b[0;32mfor\u001b[0m \u001b[0mprod_id\u001b[0m \u001b[0;32min\u001b[0m \u001b[0mproduct_ids\u001b[0m\u001b[0;34m:\u001b[0m\u001b[0;34m\u001b[0m\u001b[0m\n\u001b[1;32m     45\u001b[0m \u001b[0;31m#         print(\"\\nRunning clustering for product ID - {}\".format(prod_id))\u001b[0m\u001b[0;34m\u001b[0m\u001b[0;34m\u001b[0m\u001b[0m\n\u001b[0;32m---> 46\u001b[0;31m         \u001b[0mthis_product_reviews\u001b[0m \u001b[0;34m=\u001b[0m \u001b[0;34m[\u001b[0m\u001b[0mr\u001b[0m \u001b[0;32mfor\u001b[0m \u001b[0mr\u001b[0m \u001b[0;32min\u001b[0m \u001b[0mreviews_data\u001b[0m \u001b[0;32mif\u001b[0m \u001b[0mr\u001b[0m\u001b[0;34m[\u001b[0m\u001b[0;34m'product_id'\u001b[0m\u001b[0;34m]\u001b[0m \u001b[0;34m==\u001b[0m \u001b[0mprod_id\u001b[0m\u001b[0;34m]\u001b[0m\u001b[0;34m\u001b[0m\u001b[0m\n\u001b[0m\u001b[1;32m     47\u001b[0m         \u001b[0;31m# this_no_asp_reviews = [r for r in this_product_reviews if len(r['aspect_pairs']) == 0]\u001b[0m\u001b[0;34m\u001b[0m\u001b[0;34m\u001b[0m\u001b[0m\n\u001b[1;32m     48\u001b[0m         \u001b[0;31m# print(\"Total reviews found: {}. Reviews with no aspect pairs: {}\".format(len(this_product_reviews), len(this_no_asp_reviews)))\u001b[0m\u001b[0;34m\u001b[0m\u001b[0;34m\u001b[0m\u001b[0m\n",
      "\u001b[0;31mKeyboardInterrupt\u001b[0m: "
     ]
    }
   ],
   "source": [
    "print(\"Running clustering...\")\n",
    "update_reviews_data(reviews_data, nlp)"
   ]
  },
  {
   "cell_type": "code",
   "execution_count": null,
   "metadata": {},
   "outputs": [],
   "source": []
  }
 ],
 "metadata": {
  "kernelspec": {
   "display_name": "Python 3",
   "language": "python",
   "name": "python3"
  },
  "language_info": {
   "codemirror_mode": {
    "name": "ipython",
    "version": 3
   },
   "file_extension": ".py",
   "mimetype": "text/x-python",
   "name": "python",
   "nbconvert_exporter": "python",
   "pygments_lexer": "ipython3",
   "version": "3.6.6"
  }
 },
 "nbformat": 4,
 "nbformat_minor": 2
}
